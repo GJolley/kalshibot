{
 "cells": [
  {
   "cell_type": "code",
   "execution_count": null,
   "metadata": {},
   "outputs": [],
   "source": [
    "from KalshiClientsBase import ExchangeClient"
   ]
  },
  {
   "cell_type": "code",
   "execution_count": 3,
   "metadata": {
    "tags": []
   },
   "outputs": [
    {
     "name": "stdout",
     "output_type": "stream",
     "text": [
      "02f988dd-d0f8-40d7-ba74-f46be3556b73\n"
     ]
    }
   ],
   "source": [
    "username = \"\" # change this \n",
    "password = \"\" # change this (for extra security, we recommend using a config file)\n",
    "exchange_api_base = \"https://trading-api.kalshi.com\"\n",
    "\n",
    "exchange_client = ExchangeClient(exchange_api_base, username, password)\n",
    "print(exchange_client.user_id)\n"
   ]
  },
  {
   "cell_type": "code",
   "execution_count": 4,
   "metadata": {},
   "outputs": [
    {
     "data": {
      "text/plain": [
       "'/v1/markets/HOME-0001'"
      ]
     },
     "execution_count": 4,
     "metadata": {},
     "output_type": "execute_result"
    }
   ],
   "source": [
    "exchange_client.get_market_url('HOME-0001')"
   ]
  },
  {
   "cell_type": "code",
   "execution_count": 8,
   "metadata": {},
   "outputs": [],
   "source": [
    "# to get all markets and their info\n",
    "\n",
    "exchange_client.get_public_markets()"
   ]
  },
  {
   "cell_type": "code",
   "execution_count": 11,
   "metadata": {},
   "outputs": [],
   "source": [
    "# market_ids == the id value of a market from the get_public_markets endpoint\n",
    "\n",
    "market_id='1af6a4ed-4f57-4be6-8183-00c5fdcb7d79'\n",
    "exchange_client.get_market(market_id=market_id)"
   ]
  },
  {
   "cell_type": "code",
   "execution_count": 12,
   "metadata": {},
   "outputs": [],
   "source": [
    "market_id='1af6a4ed-4f57-4be6-8183-00c5fdcb7d79'\n",
    "exchange_client.get_orderbook(market_id=market_id)"
   ]
  },
  {
   "cell_type": "code",
   "execution_count": null,
   "metadata": {},
   "outputs": [],
   "source": []
  }
 ],
 "metadata": {
  "interpreter": {
   "hash": "767d51c1340bd893661ea55ea3124f6de3c7a262a8b4abca0554b478b1e2ff90"
  },
  "kernelspec": {
   "display_name": "Python 3.9.6 64-bit ('.venv': venv)",
   "language": "python",
   "name": "python3"
  },
  "language_info": {
   "codemirror_mode": {
    "name": "ipython",
    "version": 3
   },
   "file_extension": ".py",
   "mimetype": "text/x-python",
   "name": "python",
   "nbconvert_exporter": "python",
   "pygments_lexer": "ipython3",
   "version": "3.8.9"
  },
  "orig_nbformat": 2
 },
 "nbformat": 4,
 "nbformat_minor": 2
}
